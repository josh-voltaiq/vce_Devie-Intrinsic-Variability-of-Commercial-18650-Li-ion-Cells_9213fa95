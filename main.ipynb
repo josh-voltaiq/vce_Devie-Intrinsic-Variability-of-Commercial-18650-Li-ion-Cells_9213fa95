{
 "cells": [
  {
   "cell_type": "code",
   "execution_count": null,
   "id": "d6c66af2",
   "metadata": {},
   "outputs": [],
   "source": [
    "import voltaiq_studio as vs"
   ]
  }
 ],
 "metadata": {
  "kernelspec": {
   "display_name": "Python 3 (ipykernel)",
   "language": "python",
   "name": "python3"
  }
 },
 "nbformat": 4,
 "nbformat_minor": 5
}
